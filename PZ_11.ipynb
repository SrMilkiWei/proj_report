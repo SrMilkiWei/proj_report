{
  "nbformat": 4,
  "nbformat_minor": 0,
  "metadata": {
    "colab": {
      "name": "PZ_11.ipynb",
      "provenance": [],
      "authorship_tag": "ABX9TyPMYSMG5R8tzhmpBo4DF511",
      "include_colab_link": true
    },
    "kernelspec": {
      "name": "python3",
      "display_name": "Python 3"
    },
    "language_info": {
      "name": "python"
    }
  },
  "cells": [
    {
      "cell_type": "markdown",
      "metadata": {
        "id": "view-in-github",
        "colab_type": "text"
      },
      "source": [
        "<a href=\"https://colab.research.google.com/github/SrMilkiWei/proj_report/blob/main/PZ_11.ipynb\" target=\"_parent\"><img src=\"https://colab.research.google.com/assets/colab-badge.svg\" alt=\"Open In Colab\"/></a>"
      ]
    },
    {
      "cell_type": "markdown",
      "source": [
        "# PZ_3_1"
      ],
      "metadata": {
        "id": "YzGNRFARE2uJ"
      }
    },
    {
      "cell_type": "code",
      "source": [
        "\n",
        "3x = ''  # ввод переменных\n",
        "y = ''\n",
        "x1 = ''\n",
        "y1 = ''\n",
        "x2 = ''\n",
        "y2 = ''\n",
        "\n",
        "while type(x) != float or type(y) != float or type(x1) != float or type(x2)\\\n",
        "        != float or type(y1) != float or type(y2) != float:  # обработка исключений\n",
        "    try:\n",
        "        x = float(input('Введите значение x '))\n",
        "        y = float(input('Введите значение y '))\n",
        "        x1 = float(input('Введите значение x1 '))\n",
        "        y1 = float(input('Введите значение y1 '))\n",
        "        x2 = float(input('Введите значение x2 '))\n",
        "        y2 = float(input('Введите значение y2 '))\n",
        "    except ValueError:\n",
        "        print('Неправильно ввели, нужно вести число!')\n",
        "\n",
        "if x1 < x < x2 and y1 < y < y2:\n",
        "    print('Высказывание истинно')\n",
        "else:\n",
        "    print('Высказывание ложно')"
      ],
      "metadata": {
        "id": "YZXs-n45FQGf"
      },
      "execution_count": null,
      "outputs": []
    },
    {
      "cell_type": "markdown",
      "source": [
        "# PZ_4_1"
      ],
      "metadata": {
        "id": "RtGwBenfFlcP"
      }
    },
    {
      "cell_type": "code",
      "source": [
        "n = ''  # введение переменных\n",
        "s = 0.1\n",
        "res = 1.1\n",
        "umn = 1.1\n",
        "i = 1\n",
        "\n",
        "while type(n) != int or n <= 0:  # обработка исключений\n",
        "    try:\n",
        "        n = int(input('Введите N (целое число больше нуля) '))\n",
        "    except ValueError:\n",
        "        print('Неправильно ввели, смотрите условия!')\n",
        "\n",
        "while n > i:  # цикл умножения\n",
        "    umn += 0.1\n",
        "    res *= umn\n",
        "    i += 1\n",
        "    if i == n:\n",
        "        break\n",
        "\n",
        "print('Произведение сомножителей равно ', res)  # вывод ответа"
      ],
      "metadata": {
        "id": "LvP4gOsfGJNL"
      },
      "execution_count": null,
      "outputs": []
    },
    {
      "cell_type": "markdown",
      "source": [
        "# PZ_5_1"
      ],
      "metadata": {
        "id": "SmEi1RL2GNjH"
      }
    },
    {
      "cell_type": "code",
      "source": [
        "def generate():  # ввод функции\n",
        "    length = \"\"  # ввод переменной\n",
        "    while len(length) != 1:  # обработка исключений\n",
        "        try:\n",
        "            length = input(\"Введите один абсолютно любой символ \")\n",
        "        except ValueError:\n",
        "            print('Неправильно ввели, смотрите условия!')\n",
        "    print(length * 40)  # умножение строки\n",
        "\n",
        "\n",
        "generate()  # запуск функции"
      ],
      "metadata": {
        "id": "EwqdrlT9GYF4"
      },
      "execution_count": null,
      "outputs": []
    }
  ]
}